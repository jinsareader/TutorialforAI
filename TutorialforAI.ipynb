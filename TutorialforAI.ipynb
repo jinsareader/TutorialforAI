{
 "cells": [
  {
   "cell_type": "code",
   "execution_count": 2,
   "id": "1f9b9d10-2591-4da3-bc84-6f6b48011469",
   "metadata": {},
   "outputs": [],
   "source": [
    "import numpy\n",
    "import torch\n",
    "import torch.nn as nn\n",
    "from torchvision import datasets, transforms\n",
    "from tqdm.notebook import tqdm"
   ]
  },
  {
   "cell_type": "code",
   "execution_count": 4,
   "id": "0578aa43-8670-4dbe-8ac8-69606d13f955",
   "metadata": {},
   "outputs": [],
   "source": [
    "mnist_train = datasets.MNIST(root = \"./dataset\", train=True, transform=transforms.ToTensor(), download=False)\n",
    "mnist_test = datasets.MNIST(root = \"./dataset\", train=False, transform=transforms.ToTensor(), download=False)\n",
    "\n",
    "train_loader = torch.utils.data.DataLoader(mnist_train, batch_size = 100, shuffle=True)\n",
    "test_loader = torch.utils.data.DataLoader(mnist_test, batch_size = 100, shuffle = False)"
   ]
  },
  {
   "cell_type": "code",
   "execution_count": 5,
   "id": "b22dde95-7134-4ebc-aac2-bf265bbf0ca6",
   "metadata": {},
   "outputs": [
    {
     "name": "stdout",
     "output_type": "stream",
     "text": [
      "Epoch 0.000000 : Training loss 1.497435\n",
      "Epoch 1.000000 : Training loss 1.154831\n",
      "Epoch 2.000000 : Training loss 1.080507\n",
      "Epoch 3.000000 : Training loss 1.046133\n",
      "Epoch 4.000000 : Training loss 1.022074\n",
      "Epoch 5.000000 : Training loss 1.006467\n",
      "Epoch 6.000000 : Training loss 0.996005\n",
      "Epoch 7.000000 : Training loss 0.986807\n",
      "Epoch 8.000000 : Training loss 0.979866\n",
      "Epoch 9.000000 : Training loss 0.974099\n",
      "Epoch 10.000000 : Training loss 0.969705\n",
      "Epoch 11.000000 : Training loss 0.965637\n",
      "Epoch 12.000000 : Training loss 0.962226\n",
      "Epoch 13.000000 : Training loss 0.958519\n",
      "Epoch 14.000000 : Training loss 0.955880\n"
     ]
    }
   ],
   "source": [
    "input_size = 784\n",
    "hidden_size = [128,64]\n",
    "output_size = 10\n",
    "\n",
    "model = nn.Sequential(\n",
    "    nn.Linear(input_size, hidden_size[0]),\n",
    "    nn.ReLU(),\n",
    "    nn.Linear(hidden_size[0], hidden_size[1]),\n",
    "    nn.ReLU(),\n",
    "    nn.Linear(hidden_size[1], output_size),\n",
    "    nn.ReLU(),\n",
    "    nn.LogSoftmax(dim=1)\n",
    ")\n",
    "\n",
    "criterion = nn.CrossEntropyLoss()\n",
    "optimizer = torch.optim.SGD(model.parameters(),lr=0.09)\n",
    "\n",
    "epoch = 15\n",
    "for e in range(epoch) :\n",
    "    running_loss = 0;\n",
    "    for images, labels in train_loader :\n",
    "        images = images.view(images.shape[0], -1)\n",
    "        optimizer.zero_grad()\n",
    "        output = model(images)\n",
    "        loss = criterion(output,labels)\n",
    "        loss.backward()\n",
    "        optimizer.step()\n",
    "\n",
    "        running_loss += loss.item()\n",
    "\n",
    "    print(\"Epoch %f : Training loss %f\" %(e, running_loss/len(train_loader)))\n",
    "\n",
    "    "
   ]
  },
  {
   "cell_type": "code",
   "execution_count": null,
   "id": "c689709d-77de-44ee-912d-af2af0ebcefe",
   "metadata": {},
   "outputs": [],
   "source": []
  }
 ],
 "metadata": {
  "kernelspec": {
   "display_name": "Python 3 (ipykernel)",
   "language": "python",
   "name": "python3"
  },
  "language_info": {
   "codemirror_mode": {
    "name": "ipython",
    "version": 3
   },
   "file_extension": ".py",
   "mimetype": "text/x-python",
   "name": "python",
   "nbconvert_exporter": "python",
   "pygments_lexer": "ipython3",
   "version": "3.12.7"
  }
 },
 "nbformat": 4,
 "nbformat_minor": 5
}
